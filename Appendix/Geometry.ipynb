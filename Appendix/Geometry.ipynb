{
 "cells": [
  {
   "cell_type": "code",
   "execution_count": 1,
   "id": "d527a7df",
   "metadata": {
    "id": "d527a7df"
   },
   "outputs": [],
   "source": [
    "import numpy as np\n",
    "import matplotlib.pyplot as plt"
   ]
  },
  {
   "cell_type": "code",
   "execution_count": 2,
   "id": "cRosfqsu6uPW",
   "metadata": {
    "id": "cRosfqsu6uPW"
   },
   "outputs": [],
   "source": [
    "l = 9\n",
    "r = 2\n",
    "rho = (l**2 + r**2)/2/r"
   ]
  },
  {
   "cell_type": "code",
   "execution_count": 3,
   "id": "YcyRtZP1Mo_D",
   "metadata": {
    "colab": {
     "base_uri": "https://localhost:8080/"
    },
    "id": "YcyRtZP1Mo_D",
    "outputId": "b77623f4-a57e-4f09-e540-cb50e08784ae"
   },
   "outputs": [
    {
     "data": {
      "text/plain": [
       "21.25"
      ]
     },
     "execution_count": 3,
     "metadata": {},
     "output_type": "execute_result"
    }
   ],
   "source": [
    "rho"
   ]
  },
  {
   "cell_type": "code",
   "execution_count": 4,
   "id": "atb8BU4O8Kwv",
   "metadata": {
    "id": "atb8BU4O8Kwv"
   },
   "outputs": [],
   "source": [
    "x = np.linspace(0, 9)"
   ]
  },
  {
   "cell_type": "code",
   "execution_count": 5,
   "id": "_iXFDiwm8T5O",
   "metadata": {
    "id": "_iXFDiwm8T5O"
   },
   "outputs": [],
   "source": [
    "y = np.sqrt(rho**2 - (l - x)**2) + r - rho"
   ]
  },
  {
   "cell_type": "code",
   "execution_count": 6,
   "id": "mj0OMHEr8ay1",
   "metadata": {
    "colab": {
     "base_uri": "https://localhost:8080/",
     "height": 314
    },
    "id": "mj0OMHEr8ay1",
    "outputId": "08ee4cf8-d964-475c-c2cd-e354f924fd04"
   },
   "outputs": [
    {
     "data": {
      "image/png": "[encoded data removed]",
      "text/plain": [
       "<Figure size 720x360 with 1 Axes>"
      ]
     },
     "metadata": {
      "needs_background": "light"
     },
     "output_type": "display_data"
    }
   ],
   "source": [
    "plt.figure(figsize=(10, 5))\n",
    "plt.plot(x, y, 'k', lw=1.5);\n",
    "plt.plot(x, -y, 'k', lw=1.5);\n",
    "plt.plot(9*np.ones(100), np.linspace(-2, 2, 100), 'k', lw=1.5);\n",
    "plt.plot(10.5*np.ones(100), np.linspace(-1.8, 1.8, 100), 'k', lw=1.5);\n",
    "plt.plot(np.linspace(9, 10.5, 100), 1.8*np.ones(100), 'k', lw=1.5);\n",
    "plt.plot(np.linspace(9, 10.5, 100), -1.8*np.ones(100), 'k', lw=1.5);\n",
    "# plt.plot(np.linspace(-1, 11, 100), 2*np.ones(100), 'k--', lw=0.5);\n",
    "# plt.plot(np.linspace(-1, 11, 100), 1.8*np.ones(100), 'k--', lw=0.5);\n",
    "# plt.plot(np.linspace(-1, 11, 100), -2*np.ones(100), 'k--', lw=0.5);\n",
    "# plt.plot(np.linspace(-1, 11, 100), -1.8*np.ones(100), 'k--', lw=0.5);\n",
    "# plt.plot(9*np.ones(100), np.linspace(-3, 3, 100), 'k--', lw=0.5);\n",
    "# plt.plot(10.5*np.ones(100), np.linspace(-3, 3, 100), 'k--', lw=0.5);\n",
    "# plt.plot(np.zeros(100), np.linspace(-3, 3, 100), 'k--', lw=0.5);\n",
    "plt.axis('off')\n",
    "plt.axis('square');\n",
    "plt.xticks([0, 9, 10.5])\n",
    "plt.yticks([-2, -1.8, 0, 1.8, 2])\n",
    "plt.annotate(text = '', xy = (9.05,-2.3), xytext = (-0.05,-2.3), arrowprops = dict(arrowstyle='|-|', lw = 0.5))\n",
    "plt.annotate(text = '', xy = (8.97,2.3), xytext = (10.56,2.3), arrowprops = dict(arrowstyle='|-|', lw = 0.5))\n",
    "plt.annotate(text = '', xy = (0,2), xytext = (9,2), arrowprops = dict(arrowstyle='-', lw = 0.5))\n",
    "plt.annotate(text = '', xy = (0,-2), xytext = (9,-2), arrowprops = dict(arrowstyle='-', lw = 0.5))\n",
    "# plt.annotate(text = '', xy = (9,1.8), xytext = (9, 2), arrowprops = dict(arrowstyle='-', lw = 0.5))\n",
    "plt.annotate(text = '', xy = (-0.3,-2.05), xytext = (-0.3,2.04), arrowprops = dict(arrowstyle='|-|', lw = 0.5))\n",
    "plt.annotate(text = '', xy = (10.85,-1.85), xytext = (10.85,1.84), arrowprops = dict(arrowstyle='|-|', lw = 0.5))\n",
    "plt.annotate(text = '', xy = (0,-2), xytext = (0,0), arrowprops = dict(arrowstyle='-', lw = 0.5))\n",
    "plt.annotate('9', (4.4,-2.7), font = 'Times New Roman', size = 16)\n",
    "plt.annotate('1.5', (9.55,2.5), font = 'Times New Roman', size = 16)\n",
    "plt.annotate('4', (-0.6,-0.1), font = 'Times New Roman', size = 16)\n",
    "plt.annotate('3.6', (10.95,-0.1), font = 'Times New Roman', size = 16)\n",
    "# plt.annotate('-1.8', (-0.9,-1.7))\n",
    "# plt.ylabel('cm')\n",
    "# plt.xlabel('cm')\n",
    "plt.ylim(-3, 3);\n",
    "plt.xlim(-1, 11.5);\n",
    "# plt.savefig('Nose Cone Multi.png', bbox_inches = 'tight')\n",
    "# plt.grid()"
   ]
  },
  {
   "cell_type": "code",
   "execution_count": 7,
   "id": "pEDj4VoYSKUV",
   "metadata": {
    "id": "pEDj4VoYSKUV"
   },
   "outputs": [],
   "source": [
    "l = 6.5\n",
    "R = 2.5\n",
    "r = 2\n",
    "rho = ((R - r)**2 + l**2)/2/(R-r)\n",
    "L = np.sqrt(R*(l**2/(R-r) - r))"
   ]
  },
  {
   "cell_type": "code",
   "execution_count": 8,
   "id": "EPFD8W_iTPZp",
   "metadata": {
    "id": "EPFD8W_iTPZp"
   },
   "outputs": [],
   "source": [
    "x = np.linspace(L-l, L)\n",
    "x_in = np.linspace(L-l + 0.2, L - 0.2)\n",
    "y = np.sqrt(rho**2 - (L - x)**2) + R - rho\n",
    "y_in = np.sqrt(rho**2 - (L - x_in)**2) + R - rho\n"
   ]
  },
  {
   "cell_type": "code",
   "execution_count": 9,
   "id": "Z_naKaiqTPHx",
   "metadata": {
    "colab": {
     "base_uri": "https://localhost:8080/",
     "height": 374
    },
    "id": "Z_naKaiqTPHx",
    "outputId": "4ef2c1c0-2b15-4c84-8eba-c5d762cec36a"
   },
   "outputs": [
    {
     "data": {
      "image/png": "[encoded data removed]",
      "text/plain": [
       "<Figure size 864x576 with 1 Axes>"
      ]
     },
     "metadata": {
      "needs_background": "light"
     },
     "output_type": "display_data"
    }
   ],
   "source": [
    "plt.figure(figsize=(12, 8))\n",
    "plt.plot(x - L + l + 1.5, y, 'k', lw=1.5);\n",
    "plt.plot(x - L + l + 1.5, -y, 'k', lw=1.5);\n",
    "plt.plot(x_in - L + l + 1.5, y_in - 0.2, 'k--', lw=1.5);\n",
    "plt.plot(x_in - L + l + 1.5, -y_in + 0.2, 'k--', lw=1.5);\n",
    "plt.plot(1.5*np.ones(100), np.linspace(-2, 2, 100), 'k', lw=1.5);\n",
    "plt.plot(np.zeros(100), np.linspace(-1.8, 1.8, 100), 'k', lw=1.5);\n",
    "plt.plot(8*np.ones(100), np.linspace(-2.5, 2.5, 100), 'k', lw=1.5);\n",
    "plt.plot(9.5*np.ones(100), np.linspace(-2.3, 2.3, 100), 'k', lw=1.5);\n",
    "plt.plot(1.7*np.ones(100), np.linspace(1.6, y_in[0] - 0.2, 100), 'k--', lw=1.5);\n",
    "plt.plot(1.7*np.ones(100), np.linspace(-1.6, -y_in[0] + 0.2, 100), 'k--', lw=1.5);\n",
    "plt.plot(7.8*np.ones(100), np.linspace(2.1, y_in[-1] - 0.2, 100), 'k--', lw=1.5);\n",
    "plt.plot(7.8*np.ones(100), np.linspace(-2.1, -y_in[-1] + 0.2, 100), 'k--', lw=1.5);\n",
    "plt.plot(np.linspace(0, 1.5, 100), 1.8*np.ones(100), 'k', lw=1.5);\n",
    "plt.plot(np.linspace(0, 1.5, 100), -1.8*np.ones(100), 'k', lw=1.5);\n",
    "plt.plot(np.linspace(0, 1.7, 100), 1.6*np.ones(100), 'k--', lw=1.5);\n",
    "plt.plot(np.linspace(0, 1.7, 100), -1.6*np.ones(100), 'k--', lw=1.5);\n",
    "plt.plot(np.linspace(0, 1.5, 100), 1.8*np.ones(100), 'k', lw=1.5);\n",
    "plt.plot(np.linspace(8, 9.5, 100), 2.3*np.ones(100), 'k', lw=1.5);\n",
    "plt.plot(np.linspace(8, 9.5, 100), -2.3*np.ones(100), 'k', lw=1.5);\n",
    "plt.plot(np.linspace(7.8, 9.5, 100), -2.1*np.ones(100), 'k--', lw=1.5);\n",
    "plt.plot(np.linspace(7.8, 9.5, 100), 2.1*np.ones(100), 'k--', lw=1.5);\n",
    "plt.annotate(text = '', xy = (8.05,-2.85), xytext = (1.46,-2.85), arrowprops = dict(arrowstyle='|-|', lw = 0.5))\n",
    "plt.annotate(text = '', xy = (1.53, 2.3), xytext = (-0.04, 2.3), arrowprops = dict(arrowstyle='|-|', lw = 0.5))\n",
    "plt.annotate(text = '', xy = (9.54, 2.8), xytext = (7.97, 2.8), arrowprops = dict(arrowstyle='|-|', lw = 0.5))\n",
    "plt.annotate(text = '', xy = (1.2, 1.6), xytext = (1.2, -1.6), arrowprops = dict(arrowstyle='<->', lw = 0.5))\n",
    "plt.annotate(text = '', xy = (8.3, 2.1), xytext = (8.3, -2.1), arrowprops = dict(arrowstyle='<->', lw = 0.5))\n",
    "plt.annotate(text = '', xy = (-0.3, 1.84), xytext = (-0.3, -1.84), arrowprops = dict(arrowstyle='|-|', lw = 0.5))\n",
    "plt.annotate(text = '', xy = (-1.2, 2.04), xytext = (-1.2, -2.04), arrowprops = dict(arrowstyle='|-|', lw = 0.5))\n",
    "plt.annotate(text = '', xy = (9.8, 2.34), xytext = (9.8, -2.34), arrowprops = dict(arrowstyle='|-|', lw = 0.5))\n",
    "plt.annotate(text = '', xy = (10.7, 2.54), xytext = (10.7, -2.54), arrowprops = dict(arrowstyle='|-|', lw = 0.5))\n",
    "plt.annotate(text = '', xy = (1.5,-2.55), xytext = (1.5,-2), arrowprops = dict(arrowstyle='-', lw = 0.5))\n",
    "plt.annotate(text = '', xy = (1.5, -2), xytext = (-0.9, -2), arrowprops = dict(arrowstyle='-', lw = 0.5))\n",
    "plt.annotate(text = '', xy = (1.5, 2), xytext = (-0.9, 2), arrowprops = dict(arrowstyle='-', lw = 0.5))\n",
    "plt.annotate(text = '', xy = (10.4, 2.5), xytext = (8, 2.5), arrowprops = dict(arrowstyle='-', lw = 0.5))\n",
    "plt.annotate(text = '', xy = (10.4, -2.5), xytext = (8, -2.5), arrowprops = dict(arrowstyle='-', lw = 0.5))\n",
    "# plt.plot(np.linspace(-1, 10, 100), 2.5*np.ones(100), 'k--', lw=0.5);\n",
    "# plt.plot(np.linspace(-1, 10, 100), 2.3*np.ones(100), 'k--', lw=0.5);\n",
    "# plt.plot(np.linspace(-1, 10, 100), -2.5*np.ones(100), 'k--', lw=0.5);\n",
    "# plt.plot(np.linspace(-1, 10, 100), -2.3*np.ones(100), 'k--', lw=0.5);\n",
    "# plt.plot(np.linspace(-1, 1.5, 100), -2*np.ones(100), 'k--', lw=0.5);\n",
    "# plt.plot(np.linspace(-1, 1.5, 100), 2*np.ones(100), 'k--', lw=0.5);\n",
    "# plt.plot(np.linspace(-1, 10, 100), 1.8*np.ones(100), 'k--', lw=0.5);\n",
    "# plt.plot(np.linspace(-1, 10, 100), -1.8*np.ones(100), 'k--', lw=0.5);\n",
    "# plt.plot(np.linspace(-1, 1.5, 100), -1.6*np.ones(100), 'k--', lw=0.5);\n",
    "# plt.plot(np.linspace(-1, 1.5, 100), 1.6*np.ones(100), 'k--', lw=0.5);\n",
    "# plt.plot(8*np.ones(100), np.linspace(-3, 3, 100), 'k--', lw=0.5);\n",
    "# plt.plot(9.5*np.ones(100), np.linspace(-3, 3, 100), 'k--', lw=0.5);\n",
    "# plt.plot(1.5*np.ones(100), np.linspace(-3, 3, 100), 'k--', lw=0.5);\n",
    "# plt.plot(np.zeros(100), np.linspace(-3, 3, 100), 'k--', lw=0.5);\n",
    "plt.yticks([-2.5, -2.3, -1.8, 0, 1.8, 2.3, 2.5])\n",
    "plt.xticks([0, 0.75, 1.5, 8, 8.75, 9.5, 9.5/2])\n",
    "plt.axis('off')\n",
    "plt.axis('square')\n",
    "plt.annotate('6.5', (4.55,-3.19), font = 'Times New Roman', size = 16)\n",
    "plt.annotate('1.5', (0.55, 2.44), font = 'Times New Roman', size = 16)\n",
    "plt.annotate('1.5', (8.55, 2.95), font = 'Times New Roman', size = 16)\n",
    "plt.annotate('3.2', (0.72, -0.1), font = 'Times New Roman', size = 16)\n",
    "plt.annotate('4.2', (8.4, -0.1), font = 'Times New Roman', size = 16)\n",
    "plt.annotate('4.6', (9.88, -0.1), font = 'Times New Roman', size = 16)\n",
    "plt.annotate('4', (-1.45, -0.1), font = 'Times New Roman', size = 16)\n",
    "plt.annotate('5', (10.78, -0.1), font = 'Times New Roman', size = 16)\n",
    "plt.annotate('3.6', (-0.82, -0.1), font = 'Times New Roman', size = 16)\n",
    "# plt.annotate('1.6', (-0.9,1.3))\n",
    "# plt.annotate('-1.6', (-0.9,-1.5))\n",
    "# plt.annotate('-2.5', (-0.9,-2.8))\n",
    "# plt.annotate('2.5', (-0.9, 2.55))\n",
    "# plt.annotate('1.8', (7,1.55))\n",
    "# plt.annotate('-1.8', (7,-1.7))\n",
    "plt.xlim(-2, 11.5);\n",
    "plt.ylim(-3.5, 3.5);\n",
    "# plt.savefig('Transition Multi.png', bbox_inches = 'tight')\n",
    "# plt.grid()"
   ]
  },
  {
   "cell_type": "code",
   "execution_count": null,
   "id": "X32xAN8WTOxD",
   "metadata": {
    "colab": {
     "base_uri": "https://localhost:8080/"
    },
    "id": "X32xAN8WTOxD",
    "outputId": "026fe2be-d92f-4463-b7d6-4ba1faba9430"
   },
   "outputs": [
    {
     "data": {
      "text/plain": [
       "array([0. , 1. , 2. , 3. , 4. , 5. , 6. , 7. , 8. , 9. , 1.5])"
      ]
     },
     "execution_count": 142,
     "metadata": {},
     "output_type": "execute_result"
    }
   ],
   "source": [
    "np.concatenate([np.arange(0, 10), [1.5]])"
   ]
  },
  {
   "cell_type": "code",
   "execution_count": null,
   "id": "IdugO0QlTOJc",
   "metadata": {
    "id": "IdugO0QlTOJc"
   },
   "outputs": [],
   "source": []
  },
  {
   "cell_type": "code",
   "execution_count": 33,
   "id": "ZfE1pTCbIJHe",
   "metadata": {
    "colab": {
     "base_uri": "https://localhost:8080/",
     "height": 241
    },
    "id": "ZfE1pTCbIJHe",
    "outputId": "b61ffdb6-83dd-4a4f-f55a-82928407df0c"
   },
   "outputs": [
    {
     "data": {
      "image/png": "[encoded data removed]",
      "text/plain": [
       "<Figure size 792x576 with 1 Axes>"
      ]
     },
     "metadata": {
      "needs_background": "light"
     },
     "output_type": "display_data"
    }
   ],
   "source": [
    "plt.figure(figsize=(11, 8))\n",
    "plt.plot(15*np.ones(100), np.linspace(-2, 2, 100), 'k', lw=1.5);\n",
    "plt.plot(np.zeros(100), np.linspace(-2, 2, 100), 'k', lw=1.5);\n",
    "# plt.plot(9*np.ones(100), np.linspace(-1.8, 1.8, 100), 'k', lw=1.5);\n",
    "plt.plot(np.linspace(0, 15, 100), 1.8*np.ones(100), 'k--', lw=1.5);\n",
    "plt.plot(np.linspace(0, 15, 100), 2*np.ones(100), 'k', lw=1.5);\n",
    "plt.plot(np.linspace(0, 15, 100), -2*np.ones(100), 'k', lw=1.5);\n",
    "plt.plot(np.linspace(0, 15, 100), -1.8*np.ones(100), 'k--', lw=1.5);\n",
    "# plt.plot(np.linspace(-1, 16, 100), 2*np.ones(100), 'k--', lw=0.5);\n",
    "# plt.plot(np.linspace(-1, 16, 100), 1.8*np.ones(100), 'k--', lw=0.5);\n",
    "# plt.plot(np.linspace(-1, 16, 100), -2*np.ones(100), 'k--', lw=0.5);\n",
    "# plt.plot(np.linspace(-1, 16, 100), -1.8*np.ones(100), 'k--', lw=0.5);\n",
    "# plt.plot(15*np.ones(100), np.linspace(-3, 3, 100), 'k--', lw=0.5);\n",
    "# # plt.plot(9*np.ones(100), np.linspace(-3, 3, 100), 'k--', lw=0.5);\n",
    "# plt.plot(np.zeros(100), np.linspace(-3, 3, 100), 'k--', lw=0.5);\n",
    "plt.axis('off')\n",
    "plt.axis('square');\n",
    "plt.xticks([0, 7.5, 15])\n",
    "# plt.annotate('1.8', (-0.9,1.4), size = 7.5)\n",
    "# plt.annotate('-1.8', (-0.9,-1.7), size = 7.5)\n",
    "plt.yticks([-2, -1.8, 0, 1.8, 2])\n",
    "plt.annotate(text = '', xy = (15.08,-2.5), xytext = (-0.05,-2.5), arrowprops = dict(arrowstyle='|-|', lw = 0.5))\n",
    "plt.annotate(text = '', xy = (15.5,-2.08), xytext = (15.5,2.07), arrowprops = dict(arrowstyle='|-|', lw = 0.5))\n",
    "plt.annotate(text = '', xy = (-0.5,-1.88), xytext = (-0.5,1.86), arrowprops = dict(arrowstyle='|-|', lw = 0.5))\n",
    "plt.annotate('3.6', (-1.37,-0.17), font = 'Times New Roman', size = 16)\n",
    "plt.annotate('15', (7.24,-3.1), font = 'Times New Roman', size = 16)\n",
    "plt.annotate('4', (15.7,-0.17), font = 'Times New Roman', size = 16)\n",
    "plt.ylim(-4, 4);\n",
    "plt.xlim(-2, 17);\n",
    "# plt.savefig('Upper Body Tube Multi.png', bbox_inches = 'tight')\n",
    "# plt.grid()"
   ]
  },
  {
   "cell_type": "code",
   "execution_count": 87,
   "id": "rjsp-J971LJ_",
   "metadata": {
    "colab": {
     "base_uri": "https://localhost:8080/",
     "height": 219
    },
    "id": "rjsp-J971LJ_",
    "outputId": "87c5f7ff-a55f-4d66-94b7-15867026a8e3"
   },
   "outputs": [
    {
     "data": {
      "image/png": "[encoded data removed]",
      "text/plain": [
       "<Figure size 1080x720 with 1 Axes>"
      ]
     },
     "metadata": {
      "needs_background": "light"
     },
     "output_type": "display_data"
    }
   ],
   "source": [
    "plt.figure(figsize=(15, 10))\n",
    "plt.plot(32*np.ones(100), np.linspace(-2.5, 2.5, 100), 'k', lw=1.5);\n",
    "plt.plot(np.zeros(100), np.linspace(-2.5, 2.5, 100), 'k', lw=1.5);\n",
    "# plt.plot(9*np.ones(100), np.linspace(-1.8, 1.8, 100), 'k', lw=1.5);\n",
    "plt.plot(np.linspace(0, 32, 100), 2.3*np.ones(100), 'k--', lw=1.5);\n",
    "plt.plot(np.linspace(0, 32, 100), 2.5*np.ones(100), 'k', lw=1.5);\n",
    "plt.plot(np.linspace(0, 32, 100), -2.5*np.ones(100), 'k', lw=1.5);\n",
    "plt.plot(np.linspace(0, 32, 100), -2.3*np.ones(100), 'k--', lw=1.5);\n",
    "# plt.plot(np.linspace(-1.2, 33, 100), 2.5*np.ones(100), 'k--', lw=0.5);\n",
    "# plt.plot(np.linspace(-1.2, 33, 100), 2.3*np.ones(100), 'k--', lw=0.5);\n",
    "# plt.plot(np.linspace(-1.2, 33, 100), -2.5*np.ones(100), 'k--', lw=0.5);\n",
    "# plt.plot(np.linspace(-1.2, 33, 100), -2.3*np.ones(100), 'k--', lw=0.5);\n",
    "# plt.plot(32*np.ones(100), np.linspace(-3.5, 3.5, 100), 'k--', lw=0.5);\n",
    "# # plt.plot(9*np.ones(100), np.linspace(-3, 3, 100), 'k--', lw=0.5);\n",
    "# plt.plot(np.zeros(100), np.linspace(-3.5, 3.5, 100), 'k--', lw=0.5);\n",
    "plt.axis('off')\n",
    "plt.axis('square');\n",
    "plt.xticks([0, 16, 32])\n",
    "# plt.annotate('2.3', (-1,1.8), size = 8)\n",
    "# plt.annotate('-2.3', (-1.1,-2.15), size = 8)\n",
    "plt.yticks([-2.5, -2.3, 0, 2.3, 2.5])\n",
    "plt.annotate(text = '', xy = (32.1,-3.2), xytext = (-0.1,-3.2), arrowprops = dict(arrowstyle='|-|', lw = 0.5))\n",
    "plt.annotate(text = '', xy = (32.7,-2.58), xytext = (32.7,2.59), arrowprops = dict(arrowstyle='|-|', lw = 0.5))\n",
    "plt.annotate(text = '', xy = (-0.7,-2.38), xytext = (-0.7,2.36), arrowprops = dict(arrowstyle='|-|', lw = 0.5))\n",
    "plt.annotate('4.6', (-1.77,-0.2), font = 'Times New Roman', size = 16)\n",
    "plt.annotate('32', (15.67,-3.9), font = 'Times New Roman', size = 16)\n",
    "plt.annotate('5', (32.9,-0.2), font = 'Times New Roman', size = 16)\n",
    "plt.ylim(-4.5, 3.5);\n",
    "# plt.ylim(-4, 4);\n",
    "plt.xlim(-2.5, 33.5);\n",
    "# plt.savefig('Lower Body Tube Multi.png', bbox_inches = 'tight')\n",
    "# plt.grid()"
   ]
  },
  {
   "cell_type": "code",
   "execution_count": 149,
   "id": "ZvT43j1qTopX",
   "metadata": {
    "colab": {
     "base_uri": "https://localhost:8080/",
     "height": 206
    },
    "id": "ZvT43j1qTopX",
    "outputId": "96f0135e-c0e6-4e96-acef-d3caaab3d209"
   },
   "outputs": [
    {
     "data": {
      "image/png": "[encoded data removed]",
      "text/plain": [
       "<Figure size 1152x792 with 1 Axes>"
      ]
     },
     "metadata": {
      "needs_background": "light"
     },
     "output_type": "display_data"
    }
   ],
   "source": [
    "# plt.plot(x, y, 'k', lw=1);\n",
    "# plt.plot(x, -y, 'k', lw=1);\n",
    "plt.figure(figsize=(16, 11))\n",
    "plt.plot(30.1*np.ones(100), np.linspace(-2, 2, 100), 'k', lw=1);\n",
    "plt.plot(np.zeros(100), np.linspace(-2, 2, 100), 'k', lw=1);\n",
    "# plt.plot(9*np.ones(100), np.linspace(-1.8, 1.8, 100), 'k', lw=1);\n",
    "plt.plot(np.linspace(0.1, 30.1, 100), 1.9*np.ones(100), 'k--', lw=1);\n",
    "plt.plot(np.linspace(0, 30.1, 100), 2*np.ones(100), 'k', lw=1);\n",
    "plt.plot(np.linspace(0, 30.1, 100), -2*np.ones(100), 'k', lw=1);\n",
    "plt.plot(0.1*np.ones(100), np.linspace(-1.9, 1.9, 100), 'k--', lw=1);\n",
    "plt.plot(np.linspace(0.1, 30.1, 100), -1.9*np.ones(100), 'k--', lw=1);\n",
    "# plt.plot(np.linspace(-1, 31, 100), 2*np.ones(100), 'k--', lw=0.5);\n",
    "# plt.plot(np.linspace(-1, 31, 100), 1.9*np.ones(100), 'k--', lw=0.5);\n",
    "# plt.plot(np.linspace(-1, 31, 100), -2*np.ones(100), 'k--', lw=0.5);\n",
    "# plt.plot(np.linspace(-1, 31, 100), -1.9*np.ones(100), 'k--', lw=0.5);\n",
    "# plt.plot(30.1*np.ones(100), np.linspace(-2.5, 2.5, 100), 'k--', lw=0.5);\n",
    "# plt.plot(0.1*np.ones(100), np.linspace(-2.5, 2.5, 100), 'k--', lw=0.5);\n",
    "# # plt.plot(9*np.ones(100), np.linspace(-3, 3, 100), 'k--', lw=0.5);\n",
    "# plt.plot(np.zeros(100), np.linspace(-3, 3, 100), 'k--', lw=0.5);\n",
    "plt.axis('off')\n",
    "plt.axis('square');\n",
    "plt.xticks([0, 15.05, 30.1, 0.1])\n",
    "# plt.annotate('1.9', (-0.8,1.5), size = 9)\n",
    "# plt.annotate('-1.9', (-0.9,-1.8), size = 9)\n",
    "# plt.annotate('0.1', (0.15,-0.1))\n",
    "# plt.annotate('30.1', (29,-0.1))\n",
    "plt.yticks([-2, -1.9,  0, 1.9, 2])\n",
    "plt.annotate(text = '', xy = (30.19, -2.55), xytext = (-0.06, -2.55), arrowprops = dict(arrowstyle='|-|', lw = 0.5))\n",
    "plt.annotate(text = '', xy = (30.19, 2.56), xytext = (0.08, 2.56), arrowprops = dict(arrowstyle='|-|', lw = 0.5))\n",
    "plt.annotate(text = '', xy = (-0.55,-2.09), xytext = (-0.55, 2.06), arrowprops = dict(arrowstyle='|-|', lw = 0.5))\n",
    "plt.annotate(text = '', xy = (30.65,-1.935), xytext = (30.65, 1.93), arrowprops = dict(arrowstyle='|-|', lw = 0.5))\n",
    "plt.annotate('30.1', (14.55,-3.15), font = 'Times New Roman', size = 16)\n",
    "plt.annotate('30', (14.75, 2.85), font = 'Times New Roman', size = 16)\n",
    "plt.annotate('4', (-1.1,-0.2), font = 'Times New Roman', size = 16)\n",
    "plt.annotate('3.8', (30.8,-0.2), font = 'Times New Roman', size = 16)\n",
    "plt.ylim(-3.5, 3.5);\n",
    "plt.xlim(-1.5, 32);\n",
    "# plt.savefig('Motor Mount Multi.png', bbox_inches = 'tight')\n",
    "# plt.grid()"
   ]
  },
  {
   "cell_type": "code",
   "execution_count": 240,
   "id": "pdU2KeiERKOn",
   "metadata": {
    "colab": {
     "base_uri": "https://localhost:8080/",
     "height": 429
    },
    "id": "pdU2KeiERKOn",
    "outputId": "89d1a2be-4af4-4134-dbf9-36ffc62cba31"
   },
   "outputs": [
    {
     "data": {
      "image/png": "[encoded data removed]",
      "text/plain": [
       "<Figure size 720x504 with 1 Axes>"
      ]
     },
     "metadata": {
      "needs_background": "light"
     },
     "output_type": "display_data"
    }
   ],
   "source": [
    "plt.figure(figsize=(10, 7))\n",
    "plt.plot([0, 3, 6.5, 5, 0], [0, 3.5, 4.5, 0, 0], 'k', lw=1.5);\n",
    "# plt.plot(np.zeros(100), np.linspace(-2, 2, 100), 'k', lw=1);\n",
    "# plt.plot(9*np.ones(100), np.linspace(-1.8, 1.8, 100), 'k', lw=1);\n",
    "# plt.plot(np.linspace(0, 20, 100), 1.8*np.ones(100), 'k--', lw=1);\n",
    "# plt.plot(np.linspace(0, 20, 100), 2*np.ones(100), 'k', lw=1);\n",
    "# plt.plot(np.linspace(0, 20, 100), -2*np.ones(100), 'k', lw=1);\n",
    "# plt.plot(np.linspace(0, 20, 100), -1.8*np.ones(100), 'k--', lw=1);\n",
    "# plt.plot(np.linspace(-0.5, 8, 100), 3.5*np.ones(100), 'k--', lw=0.5);\n",
    "# plt.plot(np.linspace(-0.5, 8, 100), 4.5*np.ones(100), 'k--', lw=0.5);\n",
    "# plt.plot(np.linspace(-0.5, 8, 100), 4.5*np.zeros(100), 'k--', lw=0.5);\n",
    "# plt.plot(3*np.ones(100), np.linspace(-0.5, 5, 100), 'k--', lw=0.5);\n",
    "# plt.plot(5*np.ones(100), np.linspace(-0.5, 5, 100), 'k--', lw=0.5);\n",
    "# plt.plot(6.5*np.ones(100), np.linspace(-0.5, 5, 100), 'k--', lw=0.5);\n",
    "# plt.plot(np.zeros(100), np.linspace(-1, 5, 100), 'k--', lw=0.5);\n",
    "plt.axis('off')\n",
    "plt.axis('square');\n",
    "plt.xticks([0, 5, 3, 6.5, 9.5/2, 1.5])\n",
    "plt.yticks([0, 3.5, 3.5/2, 4.5, 4.5/2])\n",
    "plt.annotate(text = '', xy = (5.04, -0.3), xytext = (-0.03, -0.3), arrowprops = dict(arrowstyle='|-|', lw = 0.5))\n",
    "plt.annotate(text = '', xy = (5, 0), xytext = (6.55, 0), arrowprops = dict(arrowstyle='-', lw = 0.5))\n",
    "plt.annotate(text = '', xy = (3, 3.5), xytext = (0.04, 3.5), arrowprops = dict(arrowstyle='-', lw = 0.5))\n",
    "plt.annotate(text = '', xy = (3, 4.8), xytext = (-0.035, 4.8), arrowprops = dict(arrowstyle='|-|', lw = 0.5))\n",
    "plt.annotate(text = '', xy = (6.53, 4.8), xytext = (3, 4.8), arrowprops = dict(arrowstyle='|-|', lw = 0.5))\n",
    "plt.annotate(text = '', xy = (0, 4.55), xytext = (0, 0), arrowprops = dict(arrowstyle='-', lw = 0.5))\n",
    "plt.annotate(text = '', xy = (-0.27, 3.535), xytext = (-0.27, -0.04), arrowprops = dict(arrowstyle='|-|', lw = 0.5))\n",
    "plt.annotate(text = '', xy = (6.75, 4.54), xytext = (6.75, -0.04), arrowprops = dict(arrowstyle='|-|', lw = 0.5))\n",
    "plt.annotate(text = '', xy = (3, 4.55), xytext = (3, 3.5), arrowprops = dict(arrowstyle='-', lw = 0.5))\n",
    "plt.annotate('5', (2.45,-0.6), font = 'Times New Roman', size = 16)\n",
    "plt.annotate('3', (1.4,4.95), font = 'Times New Roman', size = 16)\n",
    "plt.annotate('3.5', (4.56,4.95), font = 'Times New Roman', size = 16)\n",
    "plt.annotate('3.5', (-0.75,1.67), font = 'Times New Roman', size = 16)\n",
    "plt.annotate('4.5', (6.85,2.18), font = 'Times New Roman', size = 16)\n",
    "# plt.annotate('1.8', (-0.9,1.4), size = 7.5)\n",
    "# plt.annotate('-1.8', (-0.9,-1.7), size = 7.5)\n",
    "# plt.yticks(size = 10)\n",
    "plt.ylim(-1, 5.5);\n",
    "plt.xlim(-1, 7.5);\n",
    "plt.savefig('Fin Multi.png', bbox_inches = 'tight')\n",
    "# plt.grid()"
   ]
  },
  {
   "cell_type": "code",
   "execution_count": null,
   "id": "1hTRw179RijL",
   "metadata": {
    "id": "1hTRw179RijL"
   },
   "outputs": [],
   "source": []
  }
 ],
 "metadata": {
  "colab": {
   "provenance": []
  },
  "kernelspec": {
   "display_name": "Python 3 (ipykernel)",
   "language": "python",
   "name": "python3"
  },
  "language_info": {
   "codemirror_mode": {
    "name": "ipython",
    "version": 3
   },
   "file_extension": ".py",
   "mimetype": "text/x-python",
   "name": "python",
   "nbconvert_exporter": "python",
   "pygments_lexer": "ipython3",
   "version": "3.8.10"
  }
 },
 "nbformat": 4,
 "nbformat_minor": 5
}
